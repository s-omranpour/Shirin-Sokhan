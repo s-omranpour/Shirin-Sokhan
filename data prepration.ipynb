{
 "cells": [
  {
   "cell_type": "code",
   "execution_count": 246,
   "id": "6cd3f2ea",
   "metadata": {},
   "outputs": [
    {
     "name": "stdout",
     "output_type": "stream",
     "text": [
      "INFO: Pandarallel will run on 10 workers.\n",
      "INFO: Pandarallel will use Memory file system to transfer data between the main process and workers.\n"
     ]
    }
   ],
   "source": [
    "from importlib import reload\n",
    "import os\n",
    "import pandas as pd\n",
    "import numpy as np\n",
    "import json\n",
    "import re\n",
    "import matplotlib.pyplot as plt\n",
    "import seaborn as sns\n",
    "from tqdm.notebook import tqdm\n",
    "tqdm.pandas()\n",
    "\n",
    "from transformers import (\n",
    "    GPT2Tokenizer, AutoTokenizer\n",
    ")\n",
    "\n",
    "from pandarallel import pandarallel\n",
    "\n",
    "pandarallel.initialize(nb_workers=10)"
   ]
  },
  {
   "cell_type": "markdown",
   "id": "182dfeb4",
   "metadata": {},
   "source": [
    "## dataset"
   ]
  },
  {
   "cell_type": "code",
   "execution_count": 11,
   "id": "ab9e5135",
   "metadata": {},
   "outputs": [
    {
     "data": {
      "text/plain": [
       "76"
      ]
     },
     "execution_count": 11,
     "metadata": {},
     "output_type": "execute_result"
    }
   ],
   "source": [
    "path = '/media/data/soroosh/archived_projects/Ganjoor-crawler/data/'\n",
    "poets = list(filter(lambda x: len(os.listdir(path + x)) ,os.listdir(path)))\n",
    "len(poets)"
   ]
  },
  {
   "cell_type": "code",
   "execution_count": 45,
   "id": "c082e89e",
   "metadata": {},
   "outputs": [
    {
     "data": {
      "application/vnd.jupyter.widget-view+json": {
       "model_id": "258b9240036343e9bc1099e8f976e8ce",
       "version_major": 2,
       "version_minor": 0
      },
      "text/plain": [
       "  0%|          | 0/76 [00:00<?, ?it/s]"
      ]
     },
     "metadata": {},
     "output_type": "display_data"
    },
    {
     "name": "stdout",
     "output_type": "stream",
     "text": [
      "(64276, 2)\n"
     ]
    },
    {
     "data": {
      "text/html": [
       "<div>\n",
       "<style scoped>\n",
       "    .dataframe tbody tr th:only-of-type {\n",
       "        vertical-align: middle;\n",
       "    }\n",
       "\n",
       "    .dataframe tbody tr th {\n",
       "        vertical-align: top;\n",
       "    }\n",
       "\n",
       "    .dataframe thead th {\n",
       "        text-align: right;\n",
       "    }\n",
       "</style>\n",
       "<table border=\"1\" class=\"dataframe\">\n",
       "  <thead>\n",
       "    <tr style=\"text-align: right;\">\n",
       "      <th></th>\n",
       "      <th>poet</th>\n",
       "      <th>poem</th>\n",
       "    </tr>\n",
       "  </thead>\n",
       "  <tbody>\n",
       "    <tr>\n",
       "      <th>0</th>\n",
       "      <td>khosro</td>\n",
       "      <td>همه شب در دلم آن کافر خون خوار می گردد\\nحریر ب...</td>\n",
       "    </tr>\n",
       "    <tr>\n",
       "      <th>1</th>\n",
       "      <td>khosro</td>\n",
       "      <td>آن سخن گفتن تو هست هنوزم در گوش\\nوان شکر خندهٔ...</td>\n",
       "    </tr>\n",
       "    <tr>\n",
       "      <th>2</th>\n",
       "      <td>khosro</td>\n",
       "      <td>ماهی گذشت و شب نخفت این دیده بیدار من\\nیادی نک...</td>\n",
       "    </tr>\n",
       "    <tr>\n",
       "      <th>3</th>\n",
       "      <td>khosro</td>\n",
       "      <td>جان من از بی‌دلان آخر گهی یادی بکن\\nور به انصا...</td>\n",
       "    </tr>\n",
       "    <tr>\n",
       "      <th>4</th>\n",
       "      <td>khosro</td>\n",
       "      <td>محمد کایت نورست رویش\\nسواد روشن و اللیل، مویش\\...</td>\n",
       "    </tr>\n",
       "  </tbody>\n",
       "</table>\n",
       "</div>"
      ],
      "text/plain": [
       "     poet                                               poem\n",
       "0  khosro  همه شب در دلم آن کافر خون خوار می گردد\\nحریر ب...\n",
       "1  khosro  آن سخن گفتن تو هست هنوزم در گوش\\nوان شکر خندهٔ...\n",
       "2  khosro  ماهی گذشت و شب نخفت این دیده بیدار من\\nیادی نک...\n",
       "3  khosro  جان من از بی‌دلان آخر گهی یادی بکن\\nور به انصا...\n",
       "4  khosro  محمد کایت نورست رویش\\nسواد روشن و اللیل، مویش\\..."
      ]
     },
     "execution_count": 45,
     "metadata": {},
     "output_type": "execute_result"
    }
   ],
   "source": [
    "df = pd.DataFrame(columns=['poet', 'poem'])\n",
    "for poet in tqdm(poets):\n",
    "    poems = os.listdir(path + poet)\n",
    "    for poem in poems:\n",
    "        poem = json.load(open(path + poet + '/' + poem))['poem']\n",
    "        if len(poem):\n",
    "            df = df.append({'poet': poet, 'poem' : poem}, ignore_index=True)\n",
    "print(df.shape)\n",
    "df.head()"
   ]
  },
  {
   "cell_type": "code",
   "execution_count": 57,
   "id": "ea051384",
   "metadata": {},
   "outputs": [
    {
     "data": {
      "application/vnd.jupyter.widget-view+json": {
       "model_id": "c8fc45c9216d423692851911b2f8d8e0",
       "version_major": 2,
       "version_minor": 0
      },
      "text/plain": [
       "  0%|          | 0/64276 [00:00<?, ?it/s]"
      ]
     },
     "metadata": {},
     "output_type": "display_data"
    },
    {
     "data": {
      "text/plain": [
       "194"
      ]
     },
     "execution_count": 57,
     "metadata": {},
     "output_type": "execute_result"
    }
   ],
   "source": [
    "alphabet = set()\n",
    "for s in tqdm(df['poem']):\n",
    "    alphabet.update(list(s))\n",
    "len(alphabet)"
   ]
  },
  {
   "cell_type": "code",
   "execution_count": 64,
   "id": "10cc5d69",
   "metadata": {},
   "outputs": [
    {
     "data": {
      "text/plain": [
       "{'\\t',\n",
       " '\\n',\n",
       " '\\r',\n",
       " ' ',\n",
       " '!',\n",
       " '\"',\n",
       " '(',\n",
       " ')',\n",
       " '*',\n",
       " '+',\n",
       " ',',\n",
       " '-',\n",
       " '.',\n",
       " '/',\n",
       " '0',\n",
       " ':',\n",
       " '=',\n",
       " '?',\n",
       " '[',\n",
       " ']',\n",
       " '_',\n",
       " 'c',\n",
       " 'h',\n",
       " 'i',\n",
       " 'k',\n",
       " 'o',\n",
       " 'v',\n",
       " '{',\n",
       " '}',\n",
       " '\\x7f',\n",
       " '\\x9d',\n",
       " '\\xa0',\n",
       " '«',\n",
       " '¬',\n",
       " '\\xad',\n",
       " '·',\n",
       " '¹',\n",
       " '»',\n",
       " '÷',\n",
       " '،',\n",
       " '؛',\n",
       " '؟',\n",
       " 'ء',\n",
       " 'آ',\n",
       " 'أ',\n",
       " 'ؤ',\n",
       " 'إ',\n",
       " 'ئ',\n",
       " 'ا',\n",
       " 'ب',\n",
       " 'ة',\n",
       " 'ت',\n",
       " 'ث',\n",
       " 'ج',\n",
       " 'ح',\n",
       " 'خ',\n",
       " 'د',\n",
       " 'ذ',\n",
       " 'ر',\n",
       " 'ز',\n",
       " 'س',\n",
       " 'ش',\n",
       " 'ص',\n",
       " 'ض',\n",
       " 'ط',\n",
       " 'ظ',\n",
       " 'ع',\n",
       " 'غ',\n",
       " 'ف',\n",
       " 'ق',\n",
       " 'ل',\n",
       " 'م',\n",
       " 'ن',\n",
       " 'ه',\n",
       " 'و',\n",
       " 'ى',\n",
       " 'ً',\n",
       " 'ٌ',\n",
       " 'ٍ',\n",
       " 'َ',\n",
       " 'ُ',\n",
       " 'ِ',\n",
       " 'ّ',\n",
       " 'ْ',\n",
       " 'ٓ',\n",
       " 'ٔ',\n",
       " 'ٖ',\n",
       " 'ٙ',\n",
       " '١',\n",
       " '٣',\n",
       " '٬',\n",
       " 'ٰ',\n",
       " 'ٱ',\n",
       " 'ٲ',\n",
       " 'ٶ',\n",
       " 'ٹ',\n",
       " 'ٻ',\n",
       " 'پ',\n",
       " 'ځ',\n",
       " 'چ',\n",
       " 'ڈ',\n",
       " 'ژ',\n",
       " 'ک',\n",
       " 'گ',\n",
       " 'ڵ',\n",
       " 'ں',\n",
       " 'ھ',\n",
       " 'ۀ',\n",
       " 'ی',\n",
       " 'ې',\n",
       " '۔',\n",
       " 'ە',\n",
       " 'ۤ',\n",
       " '۫',\n",
       " '۰',\n",
       " '۱',\n",
       " '۲',\n",
       " '۳',\n",
       " '۴',\n",
       " '۵',\n",
       " '۶',\n",
       " '۷',\n",
       " '۸',\n",
       " '۹',\n",
       " '\\u2003',\n",
       " '\\u200b',\n",
       " '\\u200c',\n",
       " '\\u200d',\n",
       " '\\u200e',\n",
       " '\\u200f',\n",
       " '–',\n",
       " '‘',\n",
       " '’',\n",
       " '“',\n",
       " '”',\n",
       " '…',\n",
       " '\\u202a',\n",
       " '\\u202b',\n",
       " '\\u202c',\n",
       " '\\u206e',\n",
       " '《',\n",
       " '》',\n",
       " 'ﭘ',\n",
       " 'ﭼ',\n",
       " 'ﮏ',\n",
       " 'ﮑ',\n",
       " 'ﮓ',\n",
       " 'ﯾ',\n",
       " 'ﯿ',\n",
       " 'ﷲ',\n",
       " 'ﷺ',\n",
       " 'ﹼ',\n",
       " 'ﺁ',\n",
       " 'ﺆ',\n",
       " 'ﺍ',\n",
       " 'ﺎ',\n",
       " 'ﺑ',\n",
       " 'ﺕ',\n",
       " 'ﺖ',\n",
       " 'ﺗ',\n",
       " 'ﺘ',\n",
       " 'ﺟ',\n",
       " 'ﺠ',\n",
       " 'ﺧ',\n",
       " 'ﺨ',\n",
       " 'ﺩ',\n",
       " 'ﺪ',\n",
       " 'ﺫ',\n",
       " 'ﺭ',\n",
       " 'ﺮ',\n",
       " 'ﺰ',\n",
       " 'ﺳ',\n",
       " 'ﺶ',\n",
       " 'ﺻ',\n",
       " 'ﻋ',\n",
       " 'ﻑ',\n",
       " 'ﻓ',\n",
       " 'ﻔ',\n",
       " 'ﻘ',\n",
       " 'ﻜ',\n",
       " 'ﻟ',\n",
       " 'ﻠ',\n",
       " 'ﻣ',\n",
       " 'ﻤ',\n",
       " 'ﻥ',\n",
       " 'ﻦ',\n",
       " 'ﻧ',\n",
       " 'ﻨ',\n",
       " 'ﻩ',\n",
       " 'ﻪ',\n",
       " 'ﻭ',\n",
       " 'ﻮ',\n",
       " 'ﻰ',\n",
       " 'ﻳ'}"
      ]
     },
     "execution_count": 64,
     "metadata": {},
     "output_type": "execute_result"
    }
   ],
   "source": [
    "alphabet"
   ]
  },
  {
   "cell_type": "code",
   "execution_count": 211,
   "id": "366ebdef",
   "metadata": {},
   "outputs": [
    {
     "data": {
      "application/vnd.jupyter.widget-view+json": {
       "model_id": "50efc08c0fa74792989ab4ba297800cf",
       "version_major": 2,
       "version_minor": 0
      },
      "text/plain": [
       "  0%|          | 0/64251 [00:00<?, ?it/s]"
      ]
     },
     "metadata": {},
     "output_type": "display_data"
    }
   ],
   "source": [
    "char2ignore = ['\\t', '\\r', '!', '\"', '(', ')', '*', '+', ',', '-', '.', '/', '0', ':', '=', '?', '[', ']', '_', 'c', 'h', 'i', 'k', 'o', 'v', '{', '}', '\\x7f', '\\x9d', '\\xa0', '«', '¬', '\\xad', '·', '¹', '»', '÷', '،', '؛', '؟', '۰', '۱', '۲', '۳', '۴', '۵', '۶', '۷', '۸', '۹',  'ً', 'ٌ', 'ٍ', 'َ', 'ُ', 'ِ', 'ّ', 'ْ', 'ٓ', 'ٔ', 'ٖ', 'ٙ', '١', '٣', '٬','ٰ', '۔', 'ۤ', '۫', 'ﷺ', 'ﹼ', '\\u2003', '\\u200b', '\\u200d', '\\u200e', '\\u200f', '–', '‘', '’', '“', '”', '…', '\\u202a', '\\u202b', '\\u202c', '\\u206e', '《', '》',]\n",
    "remove_special_chars = lambda x : ''.join([c for c in x if c not in char2ignore]).replace( '\\u200c', ' ')\n",
    "\n",
    "char_group_map = {\n",
    "    ''.join(['آ', 'أ', 'إ', 'ﺁ', 'ﺍ', 'ﺎ','ٱ', 'ٲ']) : 'ا',\n",
    "    ''.join(['ؤ','و','ٶ','ﺆ','ﻭ', 'ﻮ']) : 'و',\n",
    "    ''.join(['ئ', 'ى','ی', 'ې', 'ﯾ', 'ﯿ', 'ﻰ', 'ﻳ']) : 'ی',\n",
    "    ''.join(['ب','ٻ','ﺑ']) : 'ب',\n",
    "    ''.join(['ة', 'ه','ھ', 'ۀ','ﻩ', 'ﻪ', 'ە']) : 'ه',\n",
    "    ''.join(['ت', 'ٹ', 'ﺕ', 'ﺖ', 'ﺗ', 'ﺘ',]) : 'ت',\n",
    "    ''.join(['ج', 'ﺟ', 'ﺠ']) : 'ج',\n",
    "    ''.join(['ﻣ', 'ﻤ', 'م',]) : 'م',\n",
    "    ''.join(['ﻥ','ﻦ','ﻧ', 'ﻨ','ن','ں']) : 'ن',\n",
    "    ''.join(['ﻟ', 'ﻠ', 'ڵ','ل',]) : 'ل',\n",
    "    ''.join(['ﻑ', 'ﻓ', 'ﻔ','ف',]) : 'ف',\n",
    "    ''.join(['ﻘ','ق',]) : 'ق',\n",
    "    ''.join(['ﺳ','س',]) : 'س',\n",
    "    ''.join(['ﮏ', 'ﮑ','ﻜ', 'ک',]) : 'ک',\n",
    "    ''.join(['ﺧ', 'ﺨ','خ',]) : 'خ',\n",
    "    ''.join(['ﭘ', 'پ',]) : 'پ',\n",
    "    ''.join(['ﺩ', 'ﺪ', 'ڈ','د',]) : 'د',\n",
    "    ''.join(['ﺭ', 'ﺮ','ر',]) : 'ر',\n",
    "    ''.join(['ﺻ', 'ص',]) : 'ص',\n",
    "    ''.join(['ځ','ح',]) : 'ح',\n",
    "    ''.join(['ﺰ','ز',]) : 'ز',\n",
    "    ''.join(['ﭼ','چ',]) : 'چ',\n",
    "    ''.join(['ﮓ', 'گ']) : 'گ',\n",
    "    ''.join(['ﺶ', 'ش',]) : 'ش',\n",
    "    ''.join(['ﻋ']) : 'ء',\n",
    "    ''.join(['ﺫ','ذ',]) : 'ذ',\n",
    "}\n",
    "char_map = {}\n",
    "for k in char_group_map:\n",
    "    for x in k:\n",
    "        char_map[x] = char_group_map[k]\n",
    "\n",
    "def replace_chars(x):\n",
    "    x = x.replace('ﷲ', ''.join(['ا', 'ل' , 'ل', 'ه']))\n",
    "    for c in set(list(x)):\n",
    "        if c in char_map:\n",
    "            x = x.replace(c, char_map[c])\n",
    "    return x.strip()\n",
    "\n",
    "\n",
    "df['poem_cleaned'] = df['poem'].progress_apply(lambda x: replace_chars(remove_special_chars(x)))"
   ]
  },
  {
   "cell_type": "code",
   "execution_count": 212,
   "id": "3b7da6ac",
   "metadata": {},
   "outputs": [
    {
     "data": {
      "application/vnd.jupyter.widget-view+json": {
       "model_id": "b26c637216e44abca88716e838cb5ca8",
       "version_major": 2,
       "version_minor": 0
      },
      "text/plain": [
       "  0%|          | 0/64251 [00:00<?, ?it/s]"
      ]
     },
     "metadata": {},
     "output_type": "display_data"
    },
    {
     "data": {
      "text/plain": [
       "35"
      ]
     },
     "execution_count": 212,
     "metadata": {},
     "output_type": "execute_result"
    }
   ],
   "source": [
    "alphabet = set()\n",
    "for s in tqdm(df['poem_cleaned']):\n",
    "    alphabet.update(list(s))\n",
    "len(alphabet)"
   ]
  },
  {
   "cell_type": "code",
   "execution_count": 190,
   "id": "a2720a2c",
   "metadata": {},
   "outputs": [
    {
     "data": {
      "application/vnd.jupyter.widget-view+json": {
       "model_id": "beb0b67a146b4d4aad4e68cbf0c56457",
       "version_major": 2,
       "version_minor": 0
      },
      "text/plain": [
       "  0%|          | 0/64276 [00:00<?, ?it/s]"
      ]
     },
     "metadata": {},
     "output_type": "display_data"
    },
    {
     "data": {
      "application/vnd.jupyter.widget-view+json": {
       "model_id": "dc6aebdc2d3b4eb3b1553cbdf6b1984b",
       "version_major": 2,
       "version_minor": 0
      },
      "text/plain": [
       "  0%|          | 0/64276 [00:00<?, ?it/s]"
      ]
     },
     "metadata": {},
     "output_type": "display_data"
    },
    {
     "data": {
      "application/vnd.jupyter.widget-view+json": {
       "model_id": "822cab8e8a6c4e87a03485d3dc688d0a",
       "version_major": 2,
       "version_minor": 0
      },
      "text/plain": [
       "  0%|          | 0/64276 [00:00<?, ?it/s]"
      ]
     },
     "metadata": {},
     "output_type": "display_data"
    }
   ],
   "source": [
    "df['n_verse'] = df['poem_cleaned'].progress_apply(lambda x: len(x.split('\\n')))\n",
    "df['n_word'] = df['poem_cleaned'].progress_apply(lambda x: len(x.split()))\n",
    "df['length'] = df['poem_cleaned'].progress_apply(lambda x: len(x))"
   ]
  },
  {
   "cell_type": "code",
   "execution_count": 191,
   "id": "7e5f24e9",
   "metadata": {
    "scrolled": true
   },
   "outputs": [
    {
     "data": {
      "text/html": [
       "<div>\n",
       "<style scoped>\n",
       "    .dataframe tbody tr th:only-of-type {\n",
       "        vertical-align: middle;\n",
       "    }\n",
       "\n",
       "    .dataframe tbody tr th {\n",
       "        vertical-align: top;\n",
       "    }\n",
       "\n",
       "    .dataframe thead th {\n",
       "        text-align: right;\n",
       "    }\n",
       "</style>\n",
       "<table border=\"1\" class=\"dataframe\">\n",
       "  <thead>\n",
       "    <tr style=\"text-align: right;\">\n",
       "      <th></th>\n",
       "      <th>n_verse</th>\n",
       "      <th>n_word</th>\n",
       "      <th>length</th>\n",
       "    </tr>\n",
       "  </thead>\n",
       "  <tbody>\n",
       "    <tr>\n",
       "      <th>count</th>\n",
       "      <td>64276.000000</td>\n",
       "      <td>64276.000000</td>\n",
       "      <td>64276.000000</td>\n",
       "    </tr>\n",
       "    <tr>\n",
       "      <th>mean</th>\n",
       "      <td>23.843067</td>\n",
       "      <td>161.358314</td>\n",
       "      <td>695.051326</td>\n",
       "    </tr>\n",
       "    <tr>\n",
       "      <th>std</th>\n",
       "      <td>59.402120</td>\n",
       "      <td>354.287931</td>\n",
       "      <td>1574.578294</td>\n",
       "    </tr>\n",
       "    <tr>\n",
       "      <th>min</th>\n",
       "      <td>1.000000</td>\n",
       "      <td>0.000000</td>\n",
       "      <td>0.000000</td>\n",
       "    </tr>\n",
       "    <tr>\n",
       "      <th>25%</th>\n",
       "      <td>4.000000</td>\n",
       "      <td>29.000000</td>\n",
       "      <td>119.000000</td>\n",
       "    </tr>\n",
       "    <tr>\n",
       "      <th>50%</th>\n",
       "      <td>14.000000</td>\n",
       "      <td>103.000000</td>\n",
       "      <td>441.000000</td>\n",
       "    </tr>\n",
       "    <tr>\n",
       "      <th>75%</th>\n",
       "      <td>22.000000</td>\n",
       "      <td>163.000000</td>\n",
       "      <td>701.000000</td>\n",
       "    </tr>\n",
       "    <tr>\n",
       "      <th>max</th>\n",
       "      <td>6208.000000</td>\n",
       "      <td>34811.000000</td>\n",
       "      <td>158050.000000</td>\n",
       "    </tr>\n",
       "  </tbody>\n",
       "</table>\n",
       "</div>"
      ],
      "text/plain": [
       "            n_verse        n_word         length\n",
       "count  64276.000000  64276.000000   64276.000000\n",
       "mean      23.843067    161.358314     695.051326\n",
       "std       59.402120    354.287931    1574.578294\n",
       "min        1.000000      0.000000       0.000000\n",
       "25%        4.000000     29.000000     119.000000\n",
       "50%       14.000000    103.000000     441.000000\n",
       "75%       22.000000    163.000000     701.000000\n",
       "max     6208.000000  34811.000000  158050.000000"
      ]
     },
     "execution_count": 191,
     "metadata": {},
     "output_type": "execute_result"
    }
   ],
   "source": [
    "df.describe()"
   ]
  },
  {
   "cell_type": "code",
   "execution_count": 196,
   "id": "381abf1b",
   "metadata": {},
   "outputs": [
    {
     "data": {
      "text/html": [
       "<div>\n",
       "<style scoped>\n",
       "    .dataframe tbody tr th:only-of-type {\n",
       "        vertical-align: middle;\n",
       "    }\n",
       "\n",
       "    .dataframe tbody tr th {\n",
       "        vertical-align: top;\n",
       "    }\n",
       "\n",
       "    .dataframe thead th {\n",
       "        text-align: right;\n",
       "    }\n",
       "</style>\n",
       "<table border=\"1\" class=\"dataframe\">\n",
       "  <thead>\n",
       "    <tr style=\"text-align: right;\">\n",
       "      <th></th>\n",
       "      <th>n_verse</th>\n",
       "      <th>n_word</th>\n",
       "      <th>length</th>\n",
       "    </tr>\n",
       "  </thead>\n",
       "  <tbody>\n",
       "    <tr>\n",
       "      <th>count</th>\n",
       "      <td>64251.000000</td>\n",
       "      <td>64251.000000</td>\n",
       "      <td>64251.000000</td>\n",
       "    </tr>\n",
       "    <tr>\n",
       "      <th>mean</th>\n",
       "      <td>23.143064</td>\n",
       "      <td>157.333613</td>\n",
       "      <td>677.005152</td>\n",
       "    </tr>\n",
       "    <tr>\n",
       "      <th>std</th>\n",
       "      <td>39.681705</td>\n",
       "      <td>250.046802</td>\n",
       "      <td>1093.616841</td>\n",
       "    </tr>\n",
       "    <tr>\n",
       "      <th>min</th>\n",
       "      <td>2.000000</td>\n",
       "      <td>7.000000</td>\n",
       "      <td>30.000000</td>\n",
       "    </tr>\n",
       "    <tr>\n",
       "      <th>25%</th>\n",
       "      <td>4.000000</td>\n",
       "      <td>29.000000</td>\n",
       "      <td>119.000000</td>\n",
       "    </tr>\n",
       "    <tr>\n",
       "      <th>50%</th>\n",
       "      <td>14.000000</td>\n",
       "      <td>103.000000</td>\n",
       "      <td>441.000000</td>\n",
       "    </tr>\n",
       "    <tr>\n",
       "      <th>75%</th>\n",
       "      <td>22.000000</td>\n",
       "      <td>163.000000</td>\n",
       "      <td>701.000000</td>\n",
       "    </tr>\n",
       "    <tr>\n",
       "      <th>max</th>\n",
       "      <td>938.000000</td>\n",
       "      <td>5654.000000</td>\n",
       "      <td>25277.000000</td>\n",
       "    </tr>\n",
       "  </tbody>\n",
       "</table>\n",
       "</div>"
      ],
      "text/plain": [
       "            n_verse        n_word        length\n",
       "count  64251.000000  64251.000000  64251.000000\n",
       "mean      23.143064    157.333613    677.005152\n",
       "std       39.681705    250.046802   1093.616841\n",
       "min        2.000000      7.000000     30.000000\n",
       "25%        4.000000     29.000000    119.000000\n",
       "50%       14.000000    103.000000    441.000000\n",
       "75%       22.000000    163.000000    701.000000\n",
       "max      938.000000   5654.000000  25277.000000"
      ]
     },
     "execution_count": 196,
     "metadata": {},
     "output_type": "execute_result"
    }
   ],
   "source": [
    "df = df[df.n_verse > 1]\n",
    "df.describe()"
   ]
  },
  {
   "cell_type": "code",
   "execution_count": 273,
   "id": "f5333020",
   "metadata": {},
   "outputs": [],
   "source": [
    "poet_map = {\n",
    "    'khosro': 'امیرخسرو دهلوی',\n",
    "    'moulavi' : 'مولانا',\n",
    "    'varavini' : 'سعدالدین وراوینی',\n",
    "    'monshi' : 'نصرالله منشی',\n",
    "    'farrokhi': 'فرخی سیستانی',\n",
    "    'bahaee' : 'شیخ بهایی',\n",
    "    'anvari' : 'انوری',\n",
    "    'omman' : 'عمان سامانی',\n",
    "    'masood' : 'مسعود سعد سلمان',\n",
    "    'forooghi' : 'فروغی بسطامی',\n",
    "    'meybodi' : 'رشیدالدین میبدی',\n",
    "    'attar' : 'عطار',\n",
    "    'khalili' : 'خلیل الله خلیلی',\n",
    "    'bahar' : 'ملک الشعرای بهار',\n",
    "    'feyz' : 'فیض کاشانی',\n",
    "    'ebnehesam' : 'ابن حسام خوسفی',\n",
    "    'parvin' : 'پروین اعتصامی',\n",
    "    'roodaki' : 'رودکی',\n",
    "    'onsori': 'عنصری',\n",
    "    'ouhadi' : 'اوحدی',\n",
    "    'shahnematollah' : 'شاه نعمت الله ولی',\n",
    "    'babaafzal' : 'باباافضل کاشانی',\n",
    "    'azraghi' : 'ازرقی هروی',\n",
    "    'rahi': 'رهی معیری',\n",
    "    'aref' : 'عارف قزوینی',\n",
    "    'amir' : 'امیر معزی',\n",
    "    'homam': 'همام تبریزی',\n",
    "    'mahsati': 'مهستی گنجوی',\n",
    "    'naserkhosro': 'ناصرخسرو',\n",
    "    'hafez': 'حافظ',\n",
    "    'orfi': 'عرفی',\n",
    "    'gilani': 'عبدالقادر گیلانی',\n",
    "    'obeyd': 'عبید زاکانی',\n",
    "    'gar': 'رشحه',\n",
    "    'mohtasham': 'محتشم کاشانی',\n",
    "    'salman': 'سلمان ساوجی',\n",
    "    'saeb': 'صائب تبریزی',\n",
    "    'asad': 'فخرالدین اسعد گرگانی',\n",
    "    'ghobar' : 'غبار همدانی',\n",
    "    'jami':'جامی',\n",
    "    'saadi': 'سعدی',\n",
    "    'shater': 'شاطرعباس صبوحی',\n",
    "    'asadi': 'اسدی توسی',\n",
    "    'manoochehri': 'منوچهری',\n",
    "    'shahriar': 'شهریار',\n",
    "    'shabestari': 'شیخ محمود شبستری',\n",
    "    'eraghi': 'عراقی',\n",
    "    'kesayee':'کسایی',\n",
    "    'seyf': 'سیف فرغانی',\n",
    "    'hatef': 'هاتف اصفهانی',\n",
    "    'sanaee': 'سنایی',\n",
    "    'ferdousi' : 'فردوسی',\n",
    "    'hazin' : 'حزین لاهیجی',\n",
    "    'vatvat': 'رشیدالدین وطواط',\n",
    "    'abusaeed': 'ابوسعید ابوالخیر',\n",
    "    'khojandi': 'کمال خجندی',\n",
    "    'kamal': 'کمال الدین اسماعیل',\n",
    "    'vahshi': 'وحشی',\n",
    "    'jabali': 'عبدالواسع جبلی',\n",
    "    'zahir': 'ظهیر فاریابی',\n",
    "    'fayez': 'فایز',\n",
    "    'babataher': 'باباطاهر',\n",
    "    'khajoo': 'خواجوی کرمانی',\n",
    "    'samet': 'صامت بروجردی',\n",
    "    'hojviri': 'هجویری',\n",
    "    'ghodsi': 'قدسی مشهدی',\n",
    "    'nezari': 'حکیم نزاری',\n",
    "    'bidel': 'بیدل دهلوی',\n",
    "    'helali': 'هلالی جغتایی',\n",
    "    'khaghani': 'خاقانی',\n",
    "    'iqbal': 'اقبال لاهوری',\n",
    "    'ghaani': 'قاآنی',\n",
    "    'khayyam': 'خیام',\n",
    "    'razi': 'رضي الدین آرتیمانی'\n",
    "}"
   ]
  },
  {
   "cell_type": "code",
   "execution_count": 276,
   "id": "ef0ddfc7",
   "metadata": {},
   "outputs": [
    {
     "data": {
      "application/vnd.jupyter.widget-view+json": {
       "model_id": "7d1e09b984bc4aa88ddb7e8b00debad0",
       "version_major": 2,
       "version_minor": 0
      },
      "text/plain": [
       "  0%|          | 0/64251 [00:00<?, ?it/s]"
      ]
     },
     "metadata": {},
     "output_type": "display_data"
    }
   ],
   "source": [
    "df['poet'] = df['poet'].progress_apply(lambda x: poet_map[x])"
   ]
  },
  {
   "cell_type": "code",
   "execution_count": 277,
   "id": "177459d2",
   "metadata": {},
   "outputs": [
    {
     "data": {
      "text/html": [
       "<div>\n",
       "<style scoped>\n",
       "    .dataframe tbody tr th:only-of-type {\n",
       "        vertical-align: middle;\n",
       "    }\n",
       "\n",
       "    .dataframe tbody tr th {\n",
       "        vertical-align: top;\n",
       "    }\n",
       "\n",
       "    .dataframe thead th {\n",
       "        text-align: right;\n",
       "    }\n",
       "</style>\n",
       "<table border=\"1\" class=\"dataframe\">\n",
       "  <thead>\n",
       "    <tr style=\"text-align: right;\">\n",
       "      <th></th>\n",
       "      <th>poet</th>\n",
       "      <th>poem</th>\n",
       "      <th>n_verse</th>\n",
       "      <th>n_word</th>\n",
       "      <th>length</th>\n",
       "      <th>poem_cleaned</th>\n",
       "      <th>poem_processed</th>\n",
       "    </tr>\n",
       "  </thead>\n",
       "  <tbody>\n",
       "    <tr>\n",
       "      <th>0</th>\n",
       "      <td>امیرخسرو دهلوی</td>\n",
       "      <td>همه شب در دلم آن کافر خون خوار می گردد\\nحریر ب...</td>\n",
       "      <td>18</td>\n",
       "      <td>170</td>\n",
       "      <td>702</td>\n",
       "      <td>همه شب در دلم ان کافر خون خوار می گردد\\nحریر ب...</td>\n",
       "      <td>khosro&lt;|startoftext|&gt;همه شب در دلم آن کافر خون...</td>\n",
       "    </tr>\n",
       "    <tr>\n",
       "      <th>1</th>\n",
       "      <td>امیرخسرو دهلوی</td>\n",
       "      <td>آن سخن گفتن تو هست هنوزم در گوش\\nوان شکر خندهٔ...</td>\n",
       "      <td>6</td>\n",
       "      <td>50</td>\n",
       "      <td>202</td>\n",
       "      <td>ان سخن گفتن تو هست هنوزم در گوش\\nوان شکر خنده ...</td>\n",
       "      <td>khosro&lt;|startoftext|&gt;آن سخن گفتن تو هست هنوزم ...</td>\n",
       "    </tr>\n",
       "    <tr>\n",
       "      <th>2</th>\n",
       "      <td>امیرخسرو دهلوی</td>\n",
       "      <td>ماهی گذشت و شب نخفت این دیده بیدار من\\nیادی نک...</td>\n",
       "      <td>18</td>\n",
       "      <td>168</td>\n",
       "      <td>697</td>\n",
       "      <td>ماهی گذشت و شب نخفت این دیده بیدار من\\nیادی نک...</td>\n",
       "      <td>khosro&lt;|startoftext|&gt;ماهی گذشت و شب نخفت این د...</td>\n",
       "    </tr>\n",
       "    <tr>\n",
       "      <th>3</th>\n",
       "      <td>امیرخسرو دهلوی</td>\n",
       "      <td>جان من از بی‌دلان آخر گهی یادی بکن\\nور به انصا...</td>\n",
       "      <td>6</td>\n",
       "      <td>46</td>\n",
       "      <td>205</td>\n",
       "      <td>جان من از بی دلان اخر گهی یادی بکن\\nور به انصا...</td>\n",
       "      <td>khosro&lt;|startoftext|&gt;جان من از بی‌دلان آخر گهی...</td>\n",
       "    </tr>\n",
       "    <tr>\n",
       "      <th>4</th>\n",
       "      <td>امیرخسرو دهلوی</td>\n",
       "      <td>محمد کایت نورست رویش\\nسواد روشن و اللیل، مویش\\...</td>\n",
       "      <td>20</td>\n",
       "      <td>112</td>\n",
       "      <td>509</td>\n",
       "      <td>محمد کایت نورست رویش\\nسواد روشن و اللیل مویش\\n...</td>\n",
       "      <td>khosro&lt;|startoftext|&gt;محمد کایت نورست رویش&lt;sep&gt;...</td>\n",
       "    </tr>\n",
       "  </tbody>\n",
       "</table>\n",
       "</div>"
      ],
      "text/plain": [
       "             poet                                               poem  n_verse  \\\n",
       "0  امیرخسرو دهلوی  همه شب در دلم آن کافر خون خوار می گردد\\nحریر ب...       18   \n",
       "1  امیرخسرو دهلوی  آن سخن گفتن تو هست هنوزم در گوش\\nوان شکر خندهٔ...        6   \n",
       "2  امیرخسرو دهلوی  ماهی گذشت و شب نخفت این دیده بیدار من\\nیادی نک...       18   \n",
       "3  امیرخسرو دهلوی  جان من از بی‌دلان آخر گهی یادی بکن\\nور به انصا...        6   \n",
       "4  امیرخسرو دهلوی  محمد کایت نورست رویش\\nسواد روشن و اللیل، مویش\\...       20   \n",
       "\n",
       "   n_word  length                                       poem_cleaned  \\\n",
       "0     170     702  همه شب در دلم ان کافر خون خوار می گردد\\nحریر ب...   \n",
       "1      50     202  ان سخن گفتن تو هست هنوزم در گوش\\nوان شکر خنده ...   \n",
       "2     168     697  ماهی گذشت و شب نخفت این دیده بیدار من\\nیادی نک...   \n",
       "3      46     205  جان من از بی دلان اخر گهی یادی بکن\\nور به انصا...   \n",
       "4     112     509  محمد کایت نورست رویش\\nسواد روشن و اللیل مویش\\n...   \n",
       "\n",
       "                                      poem_processed  \n",
       "0  khosro<|startoftext|>همه شب در دلم آن کافر خون...  \n",
       "1  khosro<|startoftext|>آن سخن گفتن تو هست هنوزم ...  \n",
       "2  khosro<|startoftext|>ماهی گذشت و شب نخفت این د...  \n",
       "3  khosro<|startoftext|>جان من از بی‌دلان آخر گهی...  \n",
       "4  khosro<|startoftext|>محمد کایت نورست رویش<sep>...  "
      ]
     },
     "execution_count": 277,
     "metadata": {},
     "output_type": "execute_result"
    }
   ],
   "source": [
    "df.head()"
   ]
  },
  {
   "cell_type": "code",
   "execution_count": 197,
   "id": "f2627206",
   "metadata": {},
   "outputs": [
    {
     "data": {
      "image/png": "[encoded data removed]",
      "text/plain": [
       "<Figure size 1440x1080 with 6 Axes>"
      ]
     },
     "metadata": {
      "needs_background": "light"
     },
     "output_type": "display_data"
    }
   ],
   "source": [
    "plt.figure(figsize=(20,15))\n",
    "for i,col in enumerate(['n_verse', 'n_word', 'length']):\n",
    "    plt.subplot(3,2,2*i+1)\n",
    "    plt.hist(df[col], 100)\n",
    "    plt.subplot(3,2,2*i+2)\n",
    "    sns.boxplot(df[col])\n",
    "plt.show()"
   ]
  },
  {
   "cell_type": "code",
   "execution_count": 278,
   "id": "f5a8c1f3",
   "metadata": {},
   "outputs": [
    {
     "data": {
      "application/vnd.jupyter.widget-view+json": {
       "model_id": "90021a9de0254c1db952cd89729700c0",
       "version_major": 2,
       "version_minor": 0
      },
      "text/plain": [
       "  0%|          | 0/64251 [00:00<?, ?it/s]"
      ]
     },
     "metadata": {},
     "output_type": "display_data"
    }
   ],
   "source": [
    "df['poem_processed'] = df.progress_apply(lambda x: x['poet'] + '<|startoftext|>' + x['poem'].replace('\\n', '<sep>'), axis=1)"
   ]
  },
  {
   "cell_type": "code",
   "execution_count": 279,
   "id": "a43ada1c",
   "metadata": {},
   "outputs": [],
   "source": [
    "json.dump(df['poem_processed'].tolist(), open('data/all_poems.json', 'w'))"
   ]
  },
  {
   "cell_type": "markdown",
   "id": "93120334",
   "metadata": {},
   "source": [
    "## tokenizer"
   ]
  },
  {
   "cell_type": "code",
   "execution_count": 235,
   "id": "4f71b0bd",
   "metadata": {},
   "outputs": [
    {
     "data": {
      "text/plain": [
       "True"
      ]
     },
     "execution_count": 235,
     "metadata": {},
     "output_type": "execute_result"
    }
   ],
   "source": [
    "name = \"HooshvareLab/gpt2-fa\"\n",
    "tokenizer = AutoTokenizer.from_pretrained(name)\n",
    "\n",
    "tokenizer.add_special_tokens({\n",
    "    \"bos_token\": '</s>',\n",
    "    \"eos_token\": '</s>', \n",
    "    \"pad_token\": '<pad>',\n",
    "    \"unk_token\": '<unk>',\n",
    "})"
   ]
  },
  {
   "cell_type": "code",
   "execution_count": 242,
   "id": "544b1fc6",
   "metadata": {},
   "outputs": [
    {
     "data": {
      "text/plain": [
       "[0, 9, 6, 2]"
      ]
     },
     "execution_count": 242,
     "metadata": {},
     "output_type": "execute_result"
    }
   ],
   "source": [
    "tokenizer.encode('<s><sep><|startoftext|></s>')"
   ]
  },
  {
   "cell_type": "code",
   "execution_count": 239,
   "id": "69aa9200",
   "metadata": {},
   "outputs": [
    {
     "data": {
      "text/plain": [
       "'khosro<|startoftext|>باده کش دوزخیان بهتر ازین متقیان<sep>کز پی خلد برین طاعت معبود کنند<sep>'"
      ]
     },
     "execution_count": 239,
     "metadata": {},
     "output_type": "execute_result"
    }
   ],
   "source": [
    "x = df['poem_processed'][np.argmin(df['n_verse'])]\n",
    "x"
   ]
  },
  {
   "cell_type": "code",
   "execution_count": 244,
   "id": "592d54fc",
   "metadata": {},
   "outputs": [
    {
     "data": {
      "text/plain": [
       "{'input_ids': [33046, 3757, 1692, 6, 39477, 500, 9102, 641, 288, 1241, 14573, 455, 4105, 9, 2639, 625, 3839, 275, 14594, 396, 7569, 439, 858, 689, 9], 'attention_mask': [1, 1, 1, 1, 1, 1, 1, 1, 1, 1, 1, 1, 1, 1, 1, 1, 1, 1, 1, 1, 1, 1, 1, 1, 1]}"
      ]
     },
     "execution_count": 244,
     "metadata": {},
     "output_type": "execute_result"
    }
   ],
   "source": [
    "tokenizer(x,add_special_tokens=True, )"
   ]
  },
  {
   "cell_type": "code",
   "execution_count": null,
   "id": "8c81b762",
   "metadata": {},
   "outputs": [],
   "source": []
  }
 ],
 "metadata": {
  "kernelspec": {
   "display_name": "Python 3",
   "language": "python",
   "name": "python3"
  },
  "language_info": {
   "codemirror_mode": {
    "name": "ipython",
    "version": 3
   },
   "file_extension": ".py",
   "mimetype": "text/x-python",
   "name": "python",
   "nbconvert_exporter": "python",
   "pygments_lexer": "ipython3",
   "version": "3.8.10"
  }
 },
 "nbformat": 4,
 "nbformat_minor": 5
}
