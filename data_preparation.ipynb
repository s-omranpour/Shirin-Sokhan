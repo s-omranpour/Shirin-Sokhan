{
 "cells": [
  {
   "cell_type": "code",
   "execution_count": 1,
   "id": "6cd3f2ea",
   "metadata": {},
   "outputs": [],
   "source": [
    "from importlib import reload\n",
    "import os\n",
    "import pandas as pd\n",
    "import numpy as np\n",
    "import json\n",
    "import re\n",
    "import matplotlib.pyplot as plt\n",
    "import seaborn as sns\n",
    "from tqdm.notebook import tqdm\n",
    "tqdm.pandas()\n",
    "\n",
    "from transformers import (\n",
    "    GPT2Tokenizer, AutoTokenizer\n",
    ")"
   ]
  },
  {
   "cell_type": "markdown",
   "id": "182dfeb4",
   "metadata": {},
   "source": [
    "## dataset"
   ]
  },
  {
   "cell_type": "code",
   "execution_count": 5,
   "id": "ab9e5135",
   "metadata": {},
   "outputs": [
    {
     "data": {
      "text/plain": [
       "76"
      ]
     },
     "execution_count": 5,
     "metadata": {},
     "output_type": "execute_result"
    }
   ],
   "source": [
    "path = '/media/data/soroosh/archived_projects/Ganjoor-crawler/data/'\n",
    "poets = list(filter(lambda x: len(os.listdir(path + x)) ,os.listdir(path)))\n",
    "len(poets)"
   ]
  },
  {
   "cell_type": "code",
   "execution_count": 6,
   "id": "c082e89e",
   "metadata": {},
   "outputs": [
    {
     "data": {
      "application/vnd.jupyter.widget-view+json": {
       "model_id": "56eff9c7dcb44da1b228c21a589c1cee",
       "version_major": 2,
       "version_minor": 0
      },
      "text/plain": [
       "  0%|          | 0/76 [00:00<?, ?it/s]"
      ]
     },
     "metadata": {},
     "output_type": "display_data"
    },
    {
     "name": "stdout",
     "output_type": "stream",
     "text": [
      "(64276, 2)\n"
     ]
    },
    {
     "data": {
      "text/html": [
       "<div>\n",
       "<style scoped>\n",
       "    .dataframe tbody tr th:only-of-type {\n",
       "        vertical-align: middle;\n",
       "    }\n",
       "\n",
       "    .dataframe tbody tr th {\n",
       "        vertical-align: top;\n",
       "    }\n",
       "\n",
       "    .dataframe thead th {\n",
       "        text-align: right;\n",
       "    }\n",
       "</style>\n",
       "<table border=\"1\" class=\"dataframe\">\n",
       "  <thead>\n",
       "    <tr style=\"text-align: right;\">\n",
       "      <th></th>\n",
       "      <th>poet</th>\n",
       "      <th>poem</th>\n",
       "    </tr>\n",
       "  </thead>\n",
       "  <tbody>\n",
       "    <tr>\n",
       "      <th>0</th>\n",
       "      <td>khosro</td>\n",
       "      <td>همه شب در دلم آن کافر خون خوار می گردد\\nحریر ب...</td>\n",
       "    </tr>\n",
       "    <tr>\n",
       "      <th>1</th>\n",
       "      <td>khosro</td>\n",
       "      <td>آن سخن گفتن تو هست هنوزم در گوش\\nوان شکر خندهٔ...</td>\n",
       "    </tr>\n",
       "    <tr>\n",
       "      <th>2</th>\n",
       "      <td>khosro</td>\n",
       "      <td>ماهی گذشت و شب نخفت این دیده بیدار من\\nیادی نک...</td>\n",
       "    </tr>\n",
       "    <tr>\n",
       "      <th>3</th>\n",
       "      <td>khosro</td>\n",
       "      <td>جان من از بی‌دلان آخر گهی یادی بکن\\nور به انصا...</td>\n",
       "    </tr>\n",
       "    <tr>\n",
       "      <th>4</th>\n",
       "      <td>khosro</td>\n",
       "      <td>محمد کایت نورست رویش\\nسواد روشن و اللیل، مویش\\...</td>\n",
       "    </tr>\n",
       "  </tbody>\n",
       "</table>\n",
       "</div>"
      ],
      "text/plain": [
       "     poet                                               poem\n",
       "0  khosro  همه شب در دلم آن کافر خون خوار می گردد\\nحریر ب...\n",
       "1  khosro  آن سخن گفتن تو هست هنوزم در گوش\\nوان شکر خندهٔ...\n",
       "2  khosro  ماهی گذشت و شب نخفت این دیده بیدار من\\nیادی نک...\n",
       "3  khosro  جان من از بی‌دلان آخر گهی یادی بکن\\nور به انصا...\n",
       "4  khosro  محمد کایت نورست رویش\\nسواد روشن و اللیل، مویش\\..."
      ]
     },
     "execution_count": 6,
     "metadata": {},
     "output_type": "execute_result"
    }
   ],
   "source": [
    "df = pd.DataFrame(columns=['poet', 'poem'])\n",
    "for poet in tqdm(poets):\n",
    "    poems = os.listdir(path + poet)\n",
    "    for poem in poems:\n",
    "        poem = json.load(open(path + poet + '/' + poem))['poem']\n",
    "        if len(poem):\n",
    "            df = df.append({'poet': poet, 'poem' : poem}, ignore_index=True)\n",
    "print(df.shape)\n",
    "df.head()"
   ]
  },
  {
   "cell_type": "code",
   "execution_count": 7,
   "id": "ea051384",
   "metadata": {},
   "outputs": [
    {
     "data": {
      "application/vnd.jupyter.widget-view+json": {
       "model_id": "194b2882b1d9496d96fd4fbc88becc6e",
       "version_major": 2,
       "version_minor": 0
      },
      "text/plain": [
       "  0%|          | 0/64276 [00:00<?, ?it/s]"
      ]
     },
     "metadata": {},
     "output_type": "display_data"
    },
    {
     "data": {
      "text/plain": [
       "194"
      ]
     },
     "execution_count": 7,
     "metadata": {},
     "output_type": "execute_result"
    }
   ],
   "source": [
    "alphabet = set()\n",
    "for s in tqdm(df['poem']):\n",
    "    alphabet.update(list(s))\n",
    "len(alphabet)"
   ]
  },
  {
   "cell_type": "code",
   "execution_count": 9,
   "id": "366ebdef",
   "metadata": {},
   "outputs": [
    {
     "data": {
      "application/vnd.jupyter.widget-view+json": {
       "model_id": "7a31c6b5c2b24046baf3d0261b76951a",
       "version_major": 2,
       "version_minor": 0
      },
      "text/plain": [
       "  0%|          | 0/64276 [00:00<?, ?it/s]"
      ]
     },
     "metadata": {},
     "output_type": "display_data"
    }
   ],
   "source": [
    "char2ignore = ['\\t', '\\r', '!', '\"', '(', ')', '*', '+', ',', '-', '.', '/', '0', ':', '=', '?', '[', ']', '_', 'c', 'h', 'i', 'k', 'o', 'v', '{', '}', '\\x7f', '\\x9d', '\\xa0', '«', '¬', '\\xad', '·', '¹', '»', '÷', '،', '؛', '؟', '۰', '۱', '۲', '۳', '۴', '۵', '۶', '۷', '۸', '۹',  'ً', 'ٌ', 'ٍ', 'َ', 'ُ', 'ِ', 'ّ', 'ْ', 'ٓ', 'ٔ', 'ٖ', 'ٙ', '١', '٣', '٬','ٰ', '۔', 'ۤ', '۫', 'ﷺ', 'ﹼ', '\\u2003', '\\u200b', '\\u200d', '\\u200e', '\\u200f', '–', '‘', '’', '“', '”', '…', '\\u202a', '\\u202b', '\\u202c', '\\u206e', '《', '》',]\n",
    "remove_special_chars = lambda x : ''.join([c for c in x if c not in char2ignore]).replace( '\\u200c', ' ')\n",
    "\n",
    "char_group_map = {\n",
    "    ''.join(['آ', 'أ', 'إ', 'ﺁ', 'ﺍ', 'ﺎ','ٱ', 'ٲ']) : 'ا',\n",
    "    ''.join(['ؤ','و','ٶ','ﺆ','ﻭ', 'ﻮ']) : 'و',\n",
    "    ''.join(['ئ', 'ى','ی', 'ې', 'ﯾ', 'ﯿ', 'ﻰ', 'ﻳ']) : 'ی',\n",
    "    ''.join(['ب','ٻ','ﺑ']) : 'ب',\n",
    "    ''.join(['ة', 'ه','ھ', 'ۀ','ﻩ', 'ﻪ', 'ە']) : 'ه',\n",
    "    ''.join(['ت', 'ٹ', 'ﺕ', 'ﺖ', 'ﺗ', 'ﺘ',]) : 'ت',\n",
    "    ''.join(['ج', 'ﺟ', 'ﺠ']) : 'ج',\n",
    "    ''.join(['ﻣ', 'ﻤ', 'م',]) : 'م',\n",
    "    ''.join(['ﻥ','ﻦ','ﻧ', 'ﻨ','ن','ں']) : 'ن',\n",
    "    ''.join(['ﻟ', 'ﻠ', 'ڵ','ل',]) : 'ل',\n",
    "    ''.join(['ﻑ', 'ﻓ', 'ﻔ','ف',]) : 'ف',\n",
    "    ''.join(['ﻘ','ق',]) : 'ق',\n",
    "    ''.join(['ﺳ','س',]) : 'س',\n",
    "    ''.join(['ﮏ', 'ﮑ','ﻜ', 'ک',]) : 'ک',\n",
    "    ''.join(['ﺧ', 'ﺨ','خ',]) : 'خ',\n",
    "    ''.join(['ﭘ', 'پ',]) : 'پ',\n",
    "    ''.join(['ﺩ', 'ﺪ', 'ڈ','د',]) : 'د',\n",
    "    ''.join(['ﺭ', 'ﺮ','ر',]) : 'ر',\n",
    "    ''.join(['ﺻ', 'ص',]) : 'ص',\n",
    "    ''.join(['ځ','ح',]) : 'ح',\n",
    "    ''.join(['ﺰ','ز',]) : 'ز',\n",
    "    ''.join(['ﭼ','چ',]) : 'چ',\n",
    "    ''.join(['ﮓ', 'گ']) : 'گ',\n",
    "    ''.join(['ﺶ', 'ش',]) : 'ش',\n",
    "    ''.join(['ﻋ']) : 'ء',\n",
    "    ''.join(['ﺫ','ذ',]) : 'ذ',\n",
    "}\n",
    "char_map = {}\n",
    "for k in char_group_map:\n",
    "    for x in k:\n",
    "        char_map[x] = char_group_map[k]\n",
    "\n",
    "def replace_chars(x):\n",
    "    x = x.replace('ﷲ', ''.join(['ا', 'ل' , 'ل', 'ه']))\n",
    "    for c in set(list(x)):\n",
    "        if c in char_map:\n",
    "            x = x.replace(c, char_map[c])\n",
    "    return x.strip()\n",
    "\n",
    "\n",
    "df['poem_cleaned'] = df['poem'].progress_apply(lambda x: replace_chars(remove_special_chars(x)))"
   ]
  },
  {
   "cell_type": "code",
   "execution_count": 10,
   "id": "3b7da6ac",
   "metadata": {},
   "outputs": [
    {
     "data": {
      "application/vnd.jupyter.widget-view+json": {
       "model_id": "e7333841490e4f40ae5101ca86d695a0",
       "version_major": 2,
       "version_minor": 0
      },
      "text/plain": [
       "  0%|          | 0/64276 [00:00<?, ?it/s]"
      ]
     },
     "metadata": {},
     "output_type": "display_data"
    },
    {
     "data": {
      "text/plain": [
       "35"
      ]
     },
     "execution_count": 10,
     "metadata": {},
     "output_type": "execute_result"
    }
   ],
   "source": [
    "alphabet = set()\n",
    "for s in tqdm(df['poem_cleaned']):\n",
    "    alphabet.update(list(s))\n",
    "len(alphabet)"
   ]
  },
  {
   "cell_type": "code",
   "execution_count": 11,
   "id": "a2720a2c",
   "metadata": {},
   "outputs": [
    {
     "data": {
      "application/vnd.jupyter.widget-view+json": {
       "model_id": "b46e4cbe597e498db44cd543d349b371",
       "version_major": 2,
       "version_minor": 0
      },
      "text/plain": [
       "  0%|          | 0/64276 [00:00<?, ?it/s]"
      ]
     },
     "metadata": {},
     "output_type": "display_data"
    },
    {
     "data": {
      "application/vnd.jupyter.widget-view+json": {
       "model_id": "5ba5beb74df443bd8847a41040ee899d",
       "version_major": 2,
       "version_minor": 0
      },
      "text/plain": [
       "  0%|          | 0/64276 [00:00<?, ?it/s]"
      ]
     },
     "metadata": {},
     "output_type": "display_data"
    },
    {
     "data": {
      "application/vnd.jupyter.widget-view+json": {
       "model_id": "8b243b2ea8d54370a9f02fe59dd94a51",
       "version_major": 2,
       "version_minor": 0
      },
      "text/plain": [
       "  0%|          | 0/64276 [00:00<?, ?it/s]"
      ]
     },
     "metadata": {},
     "output_type": "display_data"
    }
   ],
   "source": [
    "df['n_verse'] = df['poem_cleaned'].progress_apply(lambda x: len(x.split('\\n')))\n",
    "df['n_word'] = df['poem_cleaned'].progress_apply(lambda x: len(x.split()))\n",
    "df['length'] = df['poem_cleaned'].progress_apply(lambda x: len(x))"
   ]
  },
  {
   "cell_type": "code",
   "execution_count": 12,
   "id": "7e5f24e9",
   "metadata": {
    "scrolled": true
   },
   "outputs": [
    {
     "data": {
      "text/html": [
       "<div>\n",
       "<style scoped>\n",
       "    .dataframe tbody tr th:only-of-type {\n",
       "        vertical-align: middle;\n",
       "    }\n",
       "\n",
       "    .dataframe tbody tr th {\n",
       "        vertical-align: top;\n",
       "    }\n",
       "\n",
       "    .dataframe thead th {\n",
       "        text-align: right;\n",
       "    }\n",
       "</style>\n",
       "<table border=\"1\" class=\"dataframe\">\n",
       "  <thead>\n",
       "    <tr style=\"text-align: right;\">\n",
       "      <th></th>\n",
       "      <th>n_verse</th>\n",
       "      <th>n_word</th>\n",
       "      <th>length</th>\n",
       "    </tr>\n",
       "  </thead>\n",
       "  <tbody>\n",
       "    <tr>\n",
       "      <th>count</th>\n",
       "      <td>64276.000000</td>\n",
       "      <td>64276.000000</td>\n",
       "      <td>64276.000000</td>\n",
       "    </tr>\n",
       "    <tr>\n",
       "      <th>mean</th>\n",
       "      <td>23.843067</td>\n",
       "      <td>161.358314</td>\n",
       "      <td>695.051326</td>\n",
       "    </tr>\n",
       "    <tr>\n",
       "      <th>std</th>\n",
       "      <td>59.402120</td>\n",
       "      <td>354.287931</td>\n",
       "      <td>1574.578294</td>\n",
       "    </tr>\n",
       "    <tr>\n",
       "      <th>min</th>\n",
       "      <td>1.000000</td>\n",
       "      <td>0.000000</td>\n",
       "      <td>0.000000</td>\n",
       "    </tr>\n",
       "    <tr>\n",
       "      <th>25%</th>\n",
       "      <td>4.000000</td>\n",
       "      <td>29.000000</td>\n",
       "      <td>119.000000</td>\n",
       "    </tr>\n",
       "    <tr>\n",
       "      <th>50%</th>\n",
       "      <td>14.000000</td>\n",
       "      <td>103.000000</td>\n",
       "      <td>441.000000</td>\n",
       "    </tr>\n",
       "    <tr>\n",
       "      <th>75%</th>\n",
       "      <td>22.000000</td>\n",
       "      <td>163.000000</td>\n",
       "      <td>701.000000</td>\n",
       "    </tr>\n",
       "    <tr>\n",
       "      <th>max</th>\n",
       "      <td>6208.000000</td>\n",
       "      <td>34811.000000</td>\n",
       "      <td>158050.000000</td>\n",
       "    </tr>\n",
       "  </tbody>\n",
       "</table>\n",
       "</div>"
      ],
      "text/plain": [
       "            n_verse        n_word         length\n",
       "count  64276.000000  64276.000000   64276.000000\n",
       "mean      23.843067    161.358314     695.051326\n",
       "std       59.402120    354.287931    1574.578294\n",
       "min        1.000000      0.000000       0.000000\n",
       "25%        4.000000     29.000000     119.000000\n",
       "50%       14.000000    103.000000     441.000000\n",
       "75%       22.000000    163.000000     701.000000\n",
       "max     6208.000000  34811.000000  158050.000000"
      ]
     },
     "execution_count": 12,
     "metadata": {},
     "output_type": "execute_result"
    }
   ],
   "source": [
    "df.describe()"
   ]
  },
  {
   "cell_type": "code",
   "execution_count": 13,
   "id": "381abf1b",
   "metadata": {},
   "outputs": [
    {
     "data": {
      "text/html": [
       "<div>\n",
       "<style scoped>\n",
       "    .dataframe tbody tr th:only-of-type {\n",
       "        vertical-align: middle;\n",
       "    }\n",
       "\n",
       "    .dataframe tbody tr th {\n",
       "        vertical-align: top;\n",
       "    }\n",
       "\n",
       "    .dataframe thead th {\n",
       "        text-align: right;\n",
       "    }\n",
       "</style>\n",
       "<table border=\"1\" class=\"dataframe\">\n",
       "  <thead>\n",
       "    <tr style=\"text-align: right;\">\n",
       "      <th></th>\n",
       "      <th>n_verse</th>\n",
       "      <th>n_word</th>\n",
       "      <th>length</th>\n",
       "    </tr>\n",
       "  </thead>\n",
       "  <tbody>\n",
       "    <tr>\n",
       "      <th>count</th>\n",
       "      <td>64274.000000</td>\n",
       "      <td>64274.000000</td>\n",
       "      <td>64274.000000</td>\n",
       "    </tr>\n",
       "    <tr>\n",
       "      <th>mean</th>\n",
       "      <td>23.843778</td>\n",
       "      <td>161.363257</td>\n",
       "      <td>695.072611</td>\n",
       "    </tr>\n",
       "    <tr>\n",
       "      <th>std</th>\n",
       "      <td>59.402908</td>\n",
       "      <td>354.292334</td>\n",
       "      <td>1574.598167</td>\n",
       "    </tr>\n",
       "    <tr>\n",
       "      <th>min</th>\n",
       "      <td>2.000000</td>\n",
       "      <td>7.000000</td>\n",
       "      <td>30.000000</td>\n",
       "    </tr>\n",
       "    <tr>\n",
       "      <th>25%</th>\n",
       "      <td>4.000000</td>\n",
       "      <td>29.000000</td>\n",
       "      <td>119.000000</td>\n",
       "    </tr>\n",
       "    <tr>\n",
       "      <th>50%</th>\n",
       "      <td>14.000000</td>\n",
       "      <td>103.000000</td>\n",
       "      <td>441.000000</td>\n",
       "    </tr>\n",
       "    <tr>\n",
       "      <th>75%</th>\n",
       "      <td>22.000000</td>\n",
       "      <td>163.000000</td>\n",
       "      <td>701.000000</td>\n",
       "    </tr>\n",
       "    <tr>\n",
       "      <th>max</th>\n",
       "      <td>6208.000000</td>\n",
       "      <td>34811.000000</td>\n",
       "      <td>158050.000000</td>\n",
       "    </tr>\n",
       "  </tbody>\n",
       "</table>\n",
       "</div>"
      ],
      "text/plain": [
       "            n_verse        n_word         length\n",
       "count  64274.000000  64274.000000   64274.000000\n",
       "mean      23.843778    161.363257     695.072611\n",
       "std       59.402908    354.292334    1574.598167\n",
       "min        2.000000      7.000000      30.000000\n",
       "25%        4.000000     29.000000     119.000000\n",
       "50%       14.000000    103.000000     441.000000\n",
       "75%       22.000000    163.000000     701.000000\n",
       "max     6208.000000  34811.000000  158050.000000"
      ]
     },
     "execution_count": 13,
     "metadata": {},
     "output_type": "execute_result"
    }
   ],
   "source": [
    "df = df[df.n_verse > 1]\n",
    "df.describe()"
   ]
  },
  {
   "cell_type": "code",
   "execution_count": 15,
   "id": "f5333020",
   "metadata": {},
   "outputs": [
    {
     "data": {
      "application/vnd.jupyter.widget-view+json": {
       "model_id": "268a273af53848479587a6c67925a0d2",
       "version_major": 2,
       "version_minor": 0
      },
      "text/plain": [
       "  0%|          | 0/64274 [00:00<?, ?it/s]"
      ]
     },
     "metadata": {},
     "output_type": "display_data"
    }
   ],
   "source": [
    "poet_map = {\n",
    "    'khosro': 'امیرخسرو دهلوی',\n",
    "    'moulavi' : 'مولانا',\n",
    "    'varavini' : 'سعدالدین وراوینی',\n",
    "    'monshi' : 'نصرالله منشی',\n",
    "    'farrokhi': 'فرخی سیستانی',\n",
    "    'bahaee' : 'شیخ بهایی',\n",
    "    'anvari' : 'انوری',\n",
    "    'omman' : 'عمان سامانی',\n",
    "    'masood' : 'مسعود سعد سلمان',\n",
    "    'forooghi' : 'فروغی بسطامی',\n",
    "    'meybodi' : 'رشیدالدین میبدی',\n",
    "    'attar' : 'عطار',\n",
    "    'khalili' : 'خلیل الله خلیلی',\n",
    "    'bahar' : 'ملک الشعرای بهار',\n",
    "    'feyz' : 'فیض کاشانی',\n",
    "    'ebnehesam' : 'ابن حسام خوسفی',\n",
    "    'parvin' : 'پروین اعتصامی',\n",
    "    'roodaki' : 'رودکی',\n",
    "    'onsori': 'عنصری',\n",
    "    'ouhadi' : 'اوحدی',\n",
    "    'shahnematollah' : 'شاه نعمت الله ولی',\n",
    "    'babaafzal' : 'باباافضل کاشانی',\n",
    "    'azraghi' : 'ازرقی هروی',\n",
    "    'rahi': 'رهی معیری',\n",
    "    'aref' : 'عارف قزوینی',\n",
    "    'amir' : 'امیر معزی',\n",
    "    'homam': 'همام تبریزی',\n",
    "    'mahsati': 'مهستی گنجوی',\n",
    "    'naserkhosro': 'ناصرخسرو',\n",
    "    'hafez': 'حافظ',\n",
    "    'orfi': 'عرفی',\n",
    "    'gilani': 'عبدالقادر گیلانی',\n",
    "    'obeyd': 'عبید زاکانی',\n",
    "    'gar': 'رشحه',\n",
    "    'mohtasham': 'محتشم کاشانی',\n",
    "    'salman': 'سلمان ساوجی',\n",
    "    'saeb': 'صائب تبریزی',\n",
    "    'asad': 'فخرالدین اسعد گرگانی',\n",
    "    'ghobar' : 'غبار همدانی',\n",
    "    'jami':'جامی',\n",
    "    'saadi': 'سعدی',\n",
    "    'shater': 'شاطرعباس صبوحی',\n",
    "    'asadi': 'اسدی توسی',\n",
    "    'manoochehri': 'منوچهری',\n",
    "    'shahriar': 'شهریار',\n",
    "    'shabestari': 'شیخ محمود شبستری',\n",
    "    'eraghi': 'عراقی',\n",
    "    'kesayee':'کسایی',\n",
    "    'seyf': 'سیف فرغانی',\n",
    "    'hatef': 'هاتف اصفهانی',\n",
    "    'sanaee': 'سنایی',\n",
    "    'ferdousi' : 'فردوسی',\n",
    "    'hazin' : 'حزین لاهیجی',\n",
    "    'vatvat': 'رشیدالدین وطواط',\n",
    "    'abusaeed': 'ابوسعید ابوالخیر',\n",
    "    'khojandi': 'کمال خجندی',\n",
    "    'kamal': 'کمال الدین اسماعیل',\n",
    "    'vahshi': 'وحشی',\n",
    "    'jabali': 'عبدالواسع جبلی',\n",
    "    'zahir': 'ظهیر فاریابی',\n",
    "    'fayez': 'فایز',\n",
    "    'babataher': 'باباطاهر',\n",
    "    'khajoo': 'خواجوی کرمانی',\n",
    "    'samet': 'صامت بروجردی',\n",
    "    'hojviri': 'هجویری',\n",
    "    'ghodsi': 'قدسی مشهدی',\n",
    "    'nezari': 'حکیم نزاری',\n",
    "    'bidel': 'بیدل دهلوی',\n",
    "    'helali': 'هلالی جغتایی',\n",
    "    'khaghani': 'خاقانی',\n",
    "    'iqbal': 'اقبال لاهوری',\n",
    "    'ghaani': 'قاآنی',\n",
    "    'khayyam': 'خیام',\n",
    "    'razi': 'رضي الدین آرتیمانی'\n",
    "}\n",
    "df['poet_fa'] = df['poet'].progress_apply(lambda x: poet_map[x])"
   ]
  },
  {
   "cell_type": "code",
   "execution_count": 16,
   "id": "177459d2",
   "metadata": {},
   "outputs": [
    {
     "data": {
      "text/html": [
       "<div>\n",
       "<style scoped>\n",
       "    .dataframe tbody tr th:only-of-type {\n",
       "        vertical-align: middle;\n",
       "    }\n",
       "\n",
       "    .dataframe tbody tr th {\n",
       "        vertical-align: top;\n",
       "    }\n",
       "\n",
       "    .dataframe thead th {\n",
       "        text-align: right;\n",
       "    }\n",
       "</style>\n",
       "<table border=\"1\" class=\"dataframe\">\n",
       "  <thead>\n",
       "    <tr style=\"text-align: right;\">\n",
       "      <th></th>\n",
       "      <th>poet</th>\n",
       "      <th>poem</th>\n",
       "      <th>poem_cleaned</th>\n",
       "      <th>n_verse</th>\n",
       "      <th>n_word</th>\n",
       "      <th>length</th>\n",
       "    </tr>\n",
       "  </thead>\n",
       "  <tbody>\n",
       "    <tr>\n",
       "      <th>0</th>\n",
       "      <td>امیرخسرو دهلوی</td>\n",
       "      <td>همه شب در دلم آن کافر خون خوار می گردد\\nحریر ب...</td>\n",
       "      <td>همه شب در دلم ان کافر خون خوار می گردد\\nحریر ب...</td>\n",
       "      <td>18</td>\n",
       "      <td>170</td>\n",
       "      <td>702</td>\n",
       "    </tr>\n",
       "    <tr>\n",
       "      <th>1</th>\n",
       "      <td>امیرخسرو دهلوی</td>\n",
       "      <td>آن سخن گفتن تو هست هنوزم در گوش\\nوان شکر خندهٔ...</td>\n",
       "      <td>ان سخن گفتن تو هست هنوزم در گوش\\nوان شکر خنده ...</td>\n",
       "      <td>6</td>\n",
       "      <td>50</td>\n",
       "      <td>202</td>\n",
       "    </tr>\n",
       "    <tr>\n",
       "      <th>2</th>\n",
       "      <td>امیرخسرو دهلوی</td>\n",
       "      <td>ماهی گذشت و شب نخفت این دیده بیدار من\\nیادی نک...</td>\n",
       "      <td>ماهی گذشت و شب نخفت این دیده بیدار من\\nیادی نک...</td>\n",
       "      <td>18</td>\n",
       "      <td>168</td>\n",
       "      <td>697</td>\n",
       "    </tr>\n",
       "    <tr>\n",
       "      <th>3</th>\n",
       "      <td>امیرخسرو دهلوی</td>\n",
       "      <td>جان من از بی‌دلان آخر گهی یادی بکن\\nور به انصا...</td>\n",
       "      <td>جان من از بی دلان اخر گهی یادی بکن\\nور به انصا...</td>\n",
       "      <td>6</td>\n",
       "      <td>46</td>\n",
       "      <td>205</td>\n",
       "    </tr>\n",
       "    <tr>\n",
       "      <th>4</th>\n",
       "      <td>امیرخسرو دهلوی</td>\n",
       "      <td>محمد کایت نورست رویش\\nسواد روشن و اللیل، مویش\\...</td>\n",
       "      <td>محمد کایت نورست رویش\\nسواد روشن و اللیل مویش\\n...</td>\n",
       "      <td>20</td>\n",
       "      <td>112</td>\n",
       "      <td>509</td>\n",
       "    </tr>\n",
       "  </tbody>\n",
       "</table>\n",
       "</div>"
      ],
      "text/plain": [
       "             poet                                               poem  \\\n",
       "0  امیرخسرو دهلوی  همه شب در دلم آن کافر خون خوار می گردد\\nحریر ب...   \n",
       "1  امیرخسرو دهلوی  آن سخن گفتن تو هست هنوزم در گوش\\nوان شکر خندهٔ...   \n",
       "2  امیرخسرو دهلوی  ماهی گذشت و شب نخفت این دیده بیدار من\\nیادی نک...   \n",
       "3  امیرخسرو دهلوی  جان من از بی‌دلان آخر گهی یادی بکن\\nور به انصا...   \n",
       "4  امیرخسرو دهلوی  محمد کایت نورست رویش\\nسواد روشن و اللیل، مویش\\...   \n",
       "\n",
       "                                        poem_cleaned  n_verse  n_word  length  \n",
       "0  همه شب در دلم ان کافر خون خوار می گردد\\nحریر ب...       18     170     702  \n",
       "1  ان سخن گفتن تو هست هنوزم در گوش\\nوان شکر خنده ...        6      50     202  \n",
       "2  ماهی گذشت و شب نخفت این دیده بیدار من\\nیادی نک...       18     168     697  \n",
       "3  جان من از بی دلان اخر گهی یادی بکن\\nور به انصا...        6      46     205  \n",
       "4  محمد کایت نورست رویش\\nسواد روشن و اللیل مویش\\n...       20     112     509  "
      ]
     },
     "execution_count": 16,
     "metadata": {},
     "output_type": "execute_result"
    }
   ],
   "source": [
    "df.head()"
   ]
  },
  {
   "cell_type": "code",
   "execution_count": 17,
   "id": "f2627206",
   "metadata": {},
   "outputs": [
    {
     "data": {
      "image/png": "[encoded data removed]",
      "text/plain": [
       "<Figure size 1440x1080 with 6 Axes>"
      ]
     },
     "metadata": {
      "needs_background": "light"
     },
     "output_type": "display_data"
    }
   ],
   "source": [
    "plt.figure(figsize=(20,15))\n",
    "for i,col in enumerate(['n_verse', 'n_word', 'length']):\n",
    "    plt.subplot(3,2,2*i+1)\n",
    "    plt.hist(df[col], 100)\n",
    "    plt.subplot(3,2,2*i+2)\n",
    "    sns.boxplot(df[col])\n",
    "plt.show()"
   ]
  },
  {
   "cell_type": "code",
   "execution_count": 41,
   "id": "e756e680",
   "metadata": {},
   "outputs": [],
   "source": [
    "df.to_csv('data/meta.csv', index=False)"
   ]
  },
  {
   "cell_type": "code",
   "execution_count": 40,
   "id": "640dd087",
   "metadata": {},
   "outputs": [
    {
     "data": {
      "text/html": [
       "<div>\n",
       "<style scoped>\n",
       "    .dataframe tbody tr th:only-of-type {\n",
       "        vertical-align: middle;\n",
       "    }\n",
       "\n",
       "    .dataframe tbody tr th {\n",
       "        vertical-align: top;\n",
       "    }\n",
       "\n",
       "    .dataframe thead th {\n",
       "        text-align: right;\n",
       "    }\n",
       "</style>\n",
       "<table border=\"1\" class=\"dataframe\">\n",
       "  <thead>\n",
       "    <tr style=\"text-align: right;\">\n",
       "      <th></th>\n",
       "      <th>poet</th>\n",
       "      <th>poem</th>\n",
       "      <th>poem_cleaned</th>\n",
       "      <th>n_verse</th>\n",
       "      <th>n_word</th>\n",
       "      <th>length</th>\n",
       "      <th>poet_fa</th>\n",
       "    </tr>\n",
       "  </thead>\n",
       "  <tbody>\n",
       "    <tr>\n",
       "      <th>0</th>\n",
       "      <td>khosro</td>\n",
       "      <td>همه شب در دلم آن کافر خون خوار می گردد\\nحریر ب...</td>\n",
       "      <td>همه شب در دلم ان کافر خون خوار می گردد\\nحریر ب...</td>\n",
       "      <td>18</td>\n",
       "      <td>170</td>\n",
       "      <td>702</td>\n",
       "      <td>امیرخسرو دهلوی</td>\n",
       "    </tr>\n",
       "    <tr>\n",
       "      <th>1</th>\n",
       "      <td>khosro</td>\n",
       "      <td>آن سخن گفتن تو هست هنوزم در گوش\\nوان شکر خندهٔ...</td>\n",
       "      <td>ان سخن گفتن تو هست هنوزم در گوش\\nوان شکر خنده ...</td>\n",
       "      <td>6</td>\n",
       "      <td>50</td>\n",
       "      <td>202</td>\n",
       "      <td>امیرخسرو دهلوی</td>\n",
       "    </tr>\n",
       "    <tr>\n",
       "      <th>2</th>\n",
       "      <td>khosro</td>\n",
       "      <td>ماهی گذشت و شب نخفت این دیده بیدار من\\nیادی نک...</td>\n",
       "      <td>ماهی گذشت و شب نخفت این دیده بیدار من\\nیادی نک...</td>\n",
       "      <td>18</td>\n",
       "      <td>168</td>\n",
       "      <td>697</td>\n",
       "      <td>امیرخسرو دهلوی</td>\n",
       "    </tr>\n",
       "    <tr>\n",
       "      <th>3</th>\n",
       "      <td>khosro</td>\n",
       "      <td>جان من از بی‌دلان آخر گهی یادی بکن\\nور به انصا...</td>\n",
       "      <td>جان من از بی دلان اخر گهی یادی بکن\\nور به انصا...</td>\n",
       "      <td>6</td>\n",
       "      <td>46</td>\n",
       "      <td>205</td>\n",
       "      <td>امیرخسرو دهلوی</td>\n",
       "    </tr>\n",
       "    <tr>\n",
       "      <th>4</th>\n",
       "      <td>khosro</td>\n",
       "      <td>محمد کایت نورست رویش\\nسواد روشن و اللیل، مویش\\...</td>\n",
       "      <td>محمد کایت نورست رویش\\nسواد روشن و اللیل مویش\\n...</td>\n",
       "      <td>20</td>\n",
       "      <td>112</td>\n",
       "      <td>509</td>\n",
       "      <td>امیرخسرو دهلوی</td>\n",
       "    </tr>\n",
       "  </tbody>\n",
       "</table>\n",
       "</div>"
      ],
      "text/plain": [
       "     poet                                               poem  \\\n",
       "0  khosro  همه شب در دلم آن کافر خون خوار می گردد\\nحریر ب...   \n",
       "1  khosro  آن سخن گفتن تو هست هنوزم در گوش\\nوان شکر خندهٔ...   \n",
       "2  khosro  ماهی گذشت و شب نخفت این دیده بیدار من\\nیادی نک...   \n",
       "3  khosro  جان من از بی‌دلان آخر گهی یادی بکن\\nور به انصا...   \n",
       "4  khosro  محمد کایت نورست رویش\\nسواد روشن و اللیل، مویش\\...   \n",
       "\n",
       "                                        poem_cleaned  n_verse  n_word  length  \\\n",
       "0  همه شب در دلم ان کافر خون خوار می گردد\\nحریر ب...       18     170     702   \n",
       "1  ان سخن گفتن تو هست هنوزم در گوش\\nوان شکر خنده ...        6      50     202   \n",
       "2  ماهی گذشت و شب نخفت این دیده بیدار من\\nیادی نک...       18     168     697   \n",
       "3  جان من از بی دلان اخر گهی یادی بکن\\nور به انصا...        6      46     205   \n",
       "4  محمد کایت نورست رویش\\nسواد روشن و اللیل مویش\\n...       20     112     509   \n",
       "\n",
       "          poet_fa  \n",
       "0  امیرخسرو دهلوی  \n",
       "1  امیرخسرو دهلوی  \n",
       "2  امیرخسرو دهلوی  \n",
       "3  امیرخسرو دهلوی  \n",
       "4  امیرخسرو دهلوی  "
      ]
     },
     "execution_count": 40,
     "metadata": {},
     "output_type": "execute_result"
    }
   ],
   "source": [
    "df.head()"
   ]
  },
  {
   "cell_type": "code",
   "execution_count": 44,
   "id": "42a31e28",
   "metadata": {},
   "outputs": [
    {
     "data": {
      "image/png": "[encoded data removed]",
      "text/plain": [
       "<Figure size 1080x1080 with 1 Axes>"
      ]
     },
     "metadata": {
      "needs_background": "light"
     },
     "output_type": "display_data"
    }
   ],
   "source": [
    "hist = df.groupby(['poet']).count()['poem']\n",
    "plt.figure(figsize=(15,15))\n",
    "sns.barplot(x=hist, y=hist.index)\n",
    "plt.savefig('data/poet_hist.png')"
   ]
  },
  {
   "cell_type": "code",
   "execution_count": 278,
   "id": "f5a8c1f3",
   "metadata": {},
   "outputs": [
    {
     "data": {
      "application/vnd.jupyter.widget-view+json": {
       "model_id": "90021a9de0254c1db952cd89729700c0",
       "version_major": 2,
       "version_minor": 0
      },
      "text/plain": [
       "  0%|          | 0/64251 [00:00<?, ?it/s]"
      ]
     },
     "metadata": {},
     "output_type": "display_data"
    }
   ],
   "source": [
    "df['poem_processed'] = df.progress_apply(lambda x: x['poet'] + '<|startoftext|>' + x['poem'].replace('\\n', '<sep>'), axis=1)"
   ]
  },
  {
   "cell_type": "code",
   "execution_count": 279,
   "id": "a43ada1c",
   "metadata": {},
   "outputs": [],
   "source": [
    "json.dump(df['poem_processed'].tolist(), open('data/all_poems.json', 'w'))"
   ]
  },
  {
   "cell_type": "code",
   "execution_count": 2,
   "id": "8c81b762",
   "metadata": {},
   "outputs": [
    {
     "data": {
      "text/html": [
       "<div>\n",
       "<style scoped>\n",
       "    .dataframe tbody tr th:only-of-type {\n",
       "        vertical-align: middle;\n",
       "    }\n",
       "\n",
       "    .dataframe tbody tr th {\n",
       "        vertical-align: top;\n",
       "    }\n",
       "\n",
       "    .dataframe thead th {\n",
       "        text-align: right;\n",
       "    }\n",
       "</style>\n",
       "<table border=\"1\" class=\"dataframe\">\n",
       "  <thead>\n",
       "    <tr style=\"text-align: right;\">\n",
       "      <th></th>\n",
       "      <th>poet</th>\n",
       "      <th>poem</th>\n",
       "      <th>poem_cleaned</th>\n",
       "      <th>n_verse</th>\n",
       "      <th>n_word</th>\n",
       "      <th>length</th>\n",
       "      <th>poet_fa</th>\n",
       "    </tr>\n",
       "  </thead>\n",
       "  <tbody>\n",
       "    <tr>\n",
       "      <th>0</th>\n",
       "      <td>khosro</td>\n",
       "      <td>همه شب در دلم آن کافر خون خوار می گردد\\nحریر ب...</td>\n",
       "      <td>همه شب در دلم ان کافر خون خوار می گردد\\nحریر ب...</td>\n",
       "      <td>18</td>\n",
       "      <td>170</td>\n",
       "      <td>702</td>\n",
       "      <td>امیرخسرو دهلوی</td>\n",
       "    </tr>\n",
       "    <tr>\n",
       "      <th>1</th>\n",
       "      <td>khosro</td>\n",
       "      <td>آن سخن گفتن تو هست هنوزم در گوش\\nوان شکر خندهٔ...</td>\n",
       "      <td>ان سخن گفتن تو هست هنوزم در گوش\\nوان شکر خنده ...</td>\n",
       "      <td>6</td>\n",
       "      <td>50</td>\n",
       "      <td>202</td>\n",
       "      <td>امیرخسرو دهلوی</td>\n",
       "    </tr>\n",
       "    <tr>\n",
       "      <th>2</th>\n",
       "      <td>khosro</td>\n",
       "      <td>ماهی گذشت و شب نخفت این دیده بیدار من\\nیادی نک...</td>\n",
       "      <td>ماهی گذشت و شب نخفت این دیده بیدار من\\nیادی نک...</td>\n",
       "      <td>18</td>\n",
       "      <td>168</td>\n",
       "      <td>697</td>\n",
       "      <td>امیرخسرو دهلوی</td>\n",
       "    </tr>\n",
       "    <tr>\n",
       "      <th>3</th>\n",
       "      <td>khosro</td>\n",
       "      <td>جان من از بی‌دلان آخر گهی یادی بکن\\nور به انصا...</td>\n",
       "      <td>جان من از بی دلان اخر گهی یادی بکن\\nور به انصا...</td>\n",
       "      <td>6</td>\n",
       "      <td>46</td>\n",
       "      <td>205</td>\n",
       "      <td>امیرخسرو دهلوی</td>\n",
       "    </tr>\n",
       "    <tr>\n",
       "      <th>4</th>\n",
       "      <td>khosro</td>\n",
       "      <td>محمد کایت نورست رویش\\nسواد روشن و اللیل، مویش\\...</td>\n",
       "      <td>محمد کایت نورست رویش\\nسواد روشن و اللیل مویش\\n...</td>\n",
       "      <td>20</td>\n",
       "      <td>112</td>\n",
       "      <td>509</td>\n",
       "      <td>امیرخسرو دهلوی</td>\n",
       "    </tr>\n",
       "  </tbody>\n",
       "</table>\n",
       "</div>"
      ],
      "text/plain": [
       "     poet                                               poem  \\\n",
       "0  khosro  همه شب در دلم آن کافر خون خوار می گردد\\nحریر ب...   \n",
       "1  khosro  آن سخن گفتن تو هست هنوزم در گوش\\nوان شکر خندهٔ...   \n",
       "2  khosro  ماهی گذشت و شب نخفت این دیده بیدار من\\nیادی نک...   \n",
       "3  khosro  جان من از بی‌دلان آخر گهی یادی بکن\\nور به انصا...   \n",
       "4  khosro  محمد کایت نورست رویش\\nسواد روشن و اللیل، مویش\\...   \n",
       "\n",
       "                                        poem_cleaned  n_verse  n_word  length  \\\n",
       "0  همه شب در دلم ان کافر خون خوار می گردد\\nحریر ب...       18     170     702   \n",
       "1  ان سخن گفتن تو هست هنوزم در گوش\\nوان شکر خنده ...        6      50     202   \n",
       "2  ماهی گذشت و شب نخفت این دیده بیدار من\\nیادی نک...       18     168     697   \n",
       "3  جان من از بی دلان اخر گهی یادی بکن\\nور به انصا...        6      46     205   \n",
       "4  محمد کایت نورست رویش\\nسواد روشن و اللیل مویش\\n...       20     112     509   \n",
       "\n",
       "          poet_fa  \n",
       "0  امیرخسرو دهلوی  \n",
       "1  امیرخسرو دهلوی  \n",
       "2  امیرخسرو دهلوی  \n",
       "3  امیرخسرو دهلوی  \n",
       "4  امیرخسرو دهلوی  "
      ]
     },
     "execution_count": 2,
     "metadata": {},
     "output_type": "execute_result"
    }
   ],
   "source": [
    "df = pd.read_csv('data/meta.csv')\n",
    "df.head()"
   ]
  },
  {
   "cell_type": "code",
   "execution_count": 8,
   "id": "206d01e1",
   "metadata": {},
   "outputs": [
    {
     "data": {
      "image/png": "[encoded data removed]",
      "text/plain": [
       "<Figure size 1440x360 with 1 Axes>"
      ]
     },
     "metadata": {
      "needs_background": "light"
     },
     "output_type": "display_data"
    }
   ],
   "source": [
    "plt.figure(figsize=(20,5))\n",
    "plt.hist(df.groupby(['poet']).count()['poem'], 100)\n",
    "plt.show()"
   ]
  },
  {
   "cell_type": "code",
   "execution_count": 12,
   "id": "75499440",
   "metadata": {},
   "outputs": [
    {
     "data": {
      "text/plain": [
       "61774"
      ]
     },
     "execution_count": 12,
     "metadata": {},
     "output_type": "execute_result"
    }
   ],
   "source": [
    "counts = df.groupby(['poet']).count()['poem']\n",
    "filtered_counts = counts[counts > 200]\n",
    "filtered_counts.sum()"
   ]
  },
  {
   "cell_type": "code",
   "execution_count": null,
   "id": "6e958a49",
   "metadata": {},
   "outputs": [],
   "source": [
    "df[pd.isin(filtered_counts)]"
   ]
  }
 ],
 "metadata": {
  "kernelspec": {
   "display_name": "Python 3",
   "language": "python",
   "name": "python3"
  },
  "language_info": {
   "codemirror_mode": {
    "name": "ipython",
    "version": 3
   },
   "file_extension": ".py",
   "mimetype": "text/x-python",
   "name": "python",
   "nbconvert_exporter": "python",
   "pygments_lexer": "ipython3",
   "version": "3.8.10"
  }
 },
 "nbformat": 4,
 "nbformat_minor": 5
}
